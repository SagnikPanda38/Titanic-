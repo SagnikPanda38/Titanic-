{
 "cells": [
  {
   "cell_type": "code",
   "execution_count": null,
   "metadata": {},
   "outputs": [],
   "source": [
    "import pandas as pd\n",
    "import seaborn as sns\n",
    "\n",
    "# Load the dataset (from Seaborn)\n",
    "df = sns.load_dataset('titanic')\n",
    "\n",
    "# Display first few rows\n",
    "print(\"First 5 Rows of Data:\")\n",
    "print(df.head())\n",
    "\n",
    "# ---------------- DATA INSPECTION ----------------\n",
    "print(\"\\nDataset Info:\")\n",
    "print(df.info())\n",
    "\n",
    "print(\"\\nSummary Statistics:\")\n",
    "print(df.describe())\n",
    "\n",
    "print(\"\\nMissing Values Count:\")\n",
    "print(df.isnull().sum())\n",
    "\n",
    "# ---------------- DATA SELECTION ----------------\n",
    "# Selecting specific columns\n",
    "df_selected = df[['survived', 'pclass', 'sex', 'age', 'fare']]\n",
    "print(\"\\nSelected Columns:\")\n",
    "print(df_selected.head())\n",
    "\n",
    "# ---------------- DATA FILTERING ----------------\n",
    "# Filtering: Passengers who survived and were in first class\n",
    "df_filtered = df[(df['survived'] == 1) & (df['pclass'] == 1)]\n",
    "print(\"\\nFiltered Data (Survived & First Class):\")\n",
    "print(df_filtered.head())\n",
    "\n",
    "# ---------------- HANDLING MISSING DATA ----------------\n",
    "# Fill missing 'age' values with median age\n",
    "df['age'].fillna(df['age'].median(), inplace=True)\n",
    "\n",
    "# Drop rows where 'embarked' is missing\n",
    "df.dropna(subset=['embarked'], inplace=True)\n",
    "\n",
    "# Fill missing 'deck' values with 'Unknown'\n",
    "df['deck'].fillna('Unknown', inplace=True)\n",
    "\n",
    "# Verify missing values are handled\n",
    "print(\"\\nMissing Values After Cleaning:\")\n",
    "print(df.isnull().sum())\n",
    "\n",
    "# Display final dataset after cleaning\n",
    "print(\"\\nFinal Cleaned Dataset:\")\n",
    "print(df.head())"
   ]
  }
 ],
 "metadata": {
  "language_info": {
   "name": "python"
  }
 },
 "nbformat": 4,
 "nbformat_minor": 2
}
